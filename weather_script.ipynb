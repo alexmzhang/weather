{
 "cells": [
  {
   "cell_type": "code",
   "execution_count": 8,
   "metadata": {},
   "outputs": [
    {
     "data": {
      "text/plain": [
       "'\\nAZ Python Notebook Script for requesting and organizing air temperature and \\nrelative humidity data from the old MesoWest API\\n'"
      ]
     },
     "execution_count": 8,
     "metadata": {},
     "output_type": "execute_result"
    }
   ],
   "source": [
    "\"\"\"\n",
    "AZ Python Notebook Script for requesting and organizing air temperature and \n",
    "relative humidity data from the old MesoWest API\n",
    "\"\"\""
   ]
  },
  {
   "cell_type": "code",
   "execution_count": 9,
   "metadata": {},
   "outputs": [],
   "source": [
    "\"\"\"\n",
    "Import necessary python packages here\n",
    "\"\"\"\n",
    "\n",
    "from urllib.request import urlopen  # package for opening web url's \n",
    "import json  # package for handling JSON formats \n",
    "import pandas as pd  # package for organizing data as table-like dataframes \n",
    "import matplotlib.pyplot as plt  # package for plotting data\n",
    "import matplotlib.dates as mdates  # package for formatting datetimes in plots\n",
    "from pandas.plotting import register_matplotlib_converters  \n",
    "\n",
    "register_matplotlib_converters()  # run this to get rid of possible datetime incompatibilities between pandas/matplotlib"
   ]
  },
  {
   "cell_type": "code",
   "execution_count": 4,
   "metadata": {
    "collapsed": true
   },
   "outputs": [],
   "source": [
    "\"\"\"\n",
    "Define Inputs here\n",
    "\"\"\"\n",
    "\n",
    "stid = 'KSFO'  # weather station ID. lookup at http://weather.rap.ucar.edu/surface/stations.txt\n",
    "start_date = '201908010000'  # yyyyMMddHHmm format\n",
    "end_date = '201908070000'  # yyyyMMddHHmm format"
   ]
  },
  {
   "cell_type": "code",
   "execution_count": 10,
   "metadata": {},
   "outputs": [],
   "source": [
    "\"\"\"\n",
    "Make the API REQUEST and parse the resulting JSON here\n",
    "\"\"\"\n",
    "\n",
    "# define the URL, which is the API REQUEST\n",
    "url = 'http://api.mesowest.net/v2/stations/timeseries?stid='+stid+'&start='+start_date+'&end='+end_date+'&vars=air_temp,relative_humidity&units=english&timeformat=%Y-%m-%d--%H:%M&token=1234567890'\n",
    "f = urlopen(url)  # open the URL in Python\n",
    "json_string = f.read()  # read the URL as a JSON\n",
    "json_string_decoded = json_string.decode()  # idk what this does. \"Decodes\" the JSON \n",
    "parsed_json = json.loads(json_string_decoded)  # idk what this really does either. \"Parses\" the JSON"
   ]
  },
  {
   "cell_type": "code",
   "execution_count": 11,
   "metadata": {
    "collapsed": true
   },
   "outputs": [],
   "source": [
    "\"\"\"\n",
    "Extract the data from the parsed JSON here\n",
    "\"\"\"\n",
    "\n",
    "weather_datetimes = parsed_json['STATION'][0]['OBSERVATIONS']['date_time']  # datetime timestamps for the data\n",
    "rh_data = parsed_json['STATION'][0]['OBSERVATIONS']['relative_humidity_set_1']  # relative humidity data\n",
    "temp_data = parsed_json['STATION'][0]['OBSERVATIONS']['air_temp_set_1']  # temperature data"
   ]
  },
  {
   "cell_type": "code",
   "execution_count": 12,
   "metadata": {
    "collapsed": true
   },
   "outputs": [],
   "source": [
    "\"\"\"\n",
    "Organize the data into a table (pandas dataframe)\n",
    "\"\"\"\n",
    "\n",
    "df = pd.DataFrame(data={'Relative Humidity': rh_data, 'Temperature': temp_data}, index=pd.DatetimeIndex(weather_datetimes))  # initialize a pandas dataframe with the weather data"
   ]
  },
  {
   "cell_type": "code",
   "execution_count": 13,
   "metadata": {},
   "outputs": [
    {
     "name": "stdout",
     "output_type": "stream",
     "text": [
      "                     Relative Humidity  Temperature\n",
      "2019-08-01 00:00:00              60.03        68.00\n",
      "2019-08-01 00:05:00              63.87        66.20\n",
      "2019-08-01 00:10:00              63.87        66.20\n",
      "2019-08-01 00:15:00              63.87        66.20\n",
      "2019-08-01 00:20:00              63.87        66.20\n",
      "2019-08-01 00:25:00              63.87        66.20\n",
      "2019-08-01 00:30:00              63.87        66.20\n",
      "2019-08-01 00:35:00              63.87        66.20\n",
      "2019-08-01 00:40:00              63.87        66.20\n",
      "2019-08-01 00:45:00              63.87        66.20\n",
      "2019-08-01 00:50:00              63.87        66.20\n",
      "2019-08-01 00:55:00              63.87        66.20\n",
      "2019-08-01 00:56:00              63.13        66.92\n",
      "2019-08-01 01:00:00              63.87        66.20\n",
      "2019-08-01 01:05:00              63.87        66.20\n",
      "2019-08-01 01:10:00              63.87        66.20\n",
      "2019-08-01 01:15:00              63.87        66.20\n",
      "2019-08-01 01:20:00              63.87        66.20\n",
      "2019-08-01 01:25:00              63.87        66.20\n",
      "2019-08-01 01:30:00              63.87        66.20\n",
      "2019-08-01 01:35:00              63.87        66.20\n",
      "2019-08-01 01:40:00              63.87        66.20\n",
      "2019-08-01 01:45:00              63.87        66.20\n",
      "2019-08-01 01:50:00              63.87        66.20\n",
      "2019-08-01 01:55:00              67.99        64.40\n",
      "2019-08-01 01:56:00              67.61        64.94\n",
      "2019-08-01 02:00:00              67.99        64.40\n",
      "2019-08-01 02:05:00              63.87        66.20\n",
      "2019-08-01 02:10:00              67.99        64.40\n",
      "2019-08-01 02:15:00              63.87        66.20\n",
      "...                                ...          ...\n",
      "2019-08-06 21:50:00              56.70        71.60\n",
      "2019-08-06 21:55:00              56.70        71.60\n",
      "2019-08-06 21:56:00              56.99        71.06\n",
      "2019-08-06 22:00:00              56.70        71.60\n",
      "2019-08-06 22:05:00              56.70        71.60\n",
      "2019-08-06 22:10:00              56.70        71.60\n",
      "2019-08-06 22:15:00              56.70        71.60\n",
      "2019-08-06 22:20:00              56.70        71.60\n",
      "2019-08-06 22:25:00              56.70        71.60\n",
      "2019-08-06 22:30:00              56.70        71.60\n",
      "2019-08-06 22:35:00              53.36        73.40\n",
      "2019-08-06 22:40:00              53.36        73.40\n",
      "2019-08-06 22:45:00              56.70        71.60\n",
      "2019-08-06 22:50:00              56.70        71.60\n",
      "2019-08-06 22:55:00              56.70        71.60\n",
      "2019-08-06 22:56:00              56.99        71.06\n",
      "2019-08-06 23:00:00              60.27        69.80\n",
      "2019-08-06 23:05:00              56.70        71.60\n",
      "2019-08-06 23:10:00              56.70        71.60\n",
      "2019-08-06 23:15:00              53.36        73.40\n",
      "2019-08-06 23:20:00              53.36        73.40\n",
      "2019-08-06 23:25:00              56.70        71.60\n",
      "2019-08-06 23:30:00              53.10        71.60\n",
      "2019-08-06 23:35:00              56.44        69.80\n",
      "2019-08-06 23:40:00              63.87        66.20\n",
      "2019-08-06 23:45:00              56.44        69.80\n",
      "2019-08-06 23:50:00              56.44        69.80\n",
      "2019-08-06 23:55:00              56.44        69.80\n",
      "2019-08-06 23:56:00              56.84        69.98\n",
      "2019-08-07 00:00:00              53.10        71.60\n",
      "\n",
      "[1891 rows x 2 columns]\n"
     ]
    }
   ],
   "source": [
    "\"\"\"\n",
    "(Optional) Show the Dataframe if you run this cell\n",
    "\"\"\"\n",
    "\n",
    "print(df)  # print the results"
   ]
  },
  {
   "cell_type": "code",
   "execution_count": null,
   "metadata": {
    "collapsed": true
   },
   "outputs": [],
   "source": [
    "\"\"\"\n",
    "(Optional) Export the results to a csv file if you run this cell \n",
    "\"\"\"\n",
    "\n",
    "df.to_csv('weather_data.csv')"
   ]
  },
  {
   "cell_type": "code",
   "execution_count": 17,
   "metadata": {},
   "outputs": [
    {
     "name": "stdout",
     "output_type": "stream",
     "text": [
      "Using matplotlib backend: Qt4Agg\n"
     ]
    }
   ],
   "source": [
    "\"\"\"\n",
    "(Optional) View a plot/graph of the data if you run this cell\n",
    "\"\"\"\n",
    "\n",
    "%matplotlib auto\n",
    "\n",
    "# define fontsizes\n",
    "titlesize = 60\n",
    "labelsize = 40\n",
    "legendsize = 20\n",
    "\n",
    "# initialize a figure object\n",
    "fig = plt.figure()\n",
    "\n",
    "# create the first subplot for temperature data\n",
    "ax = fig.add_subplot(211)\n",
    "ax.plot(df.index, df['Temperature'], linewidth=2, color='red', alpha=.75)\n",
    "plt.tick_params(axis='both', which='major', labelsize=30)\n",
    "plt.title(stid + ' Station Data', fontsize=titlesize)\n",
    "plt.ylabel('Temperature (F)', fontsize=labelsize)\n",
    "plt.legend(['Temperature'], fontsize=legendsize)\n",
    "plt.xticks([])\n",
    "\n",
    "# create the second subplot for relative humidity data\n",
    "ax2 = fig.add_subplot(212)\n",
    "ax2.plot(df.index, df['Relative Humidity'], linewidth=2, color='blue', alpha=.75)\n",
    "plt.tick_params(axis='both', which='major', labelsize=30)\n",
    "plt.ylabel('Rel. Humidity (%)', fontsize=labelsize)\n",
    "plt.legend(['Relative Humidity'], fontsize=legendsize)\n",
    "ax2.xaxis.set_major_formatter(mdates.DateFormatter('%b %d \\n %Y'))\n",
    "\n",
    "# show the resulting plot\n",
    "plt.show()"
   ]
  },
  {
   "cell_type": "code",
   "execution_count": null,
   "metadata": {
    "collapsed": true
   },
   "outputs": [],
   "source": []
  }
 ],
 "metadata": {
  "kernelspec": {
   "display_name": "Python 3",
   "language": "python",
   "name": "python3"
  },
  "language_info": {
   "codemirror_mode": {
    "name": "ipython",
    "version": 3
   },
   "file_extension": ".py",
   "mimetype": "text/x-python",
   "name": "python",
   "nbconvert_exporter": "python",
   "pygments_lexer": "ipython3",
   "version": "3.5.1"
  }
 },
 "nbformat": 4,
 "nbformat_minor": 1
}
